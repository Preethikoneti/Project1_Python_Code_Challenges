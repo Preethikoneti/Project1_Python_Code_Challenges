{
 "cells": [
  {
   "cell_type": "markdown",
   "metadata": {
    "collapsed": true
   },
   "source": [
    "**Challenge 1: Largest Palindrome**\n",
    "A palindromic number reads the same both ways. The largest palindrome made from the product of two 2-digit numbers is 9009 = 91 × 99. Find the largest palindrome made from the product of two 3-digit numbers\n"
   ]
  },
  {
   "cell_type": "code",
   "execution_count": 5,
   "metadata": {},
   "outputs": [
    {
     "name": "stdout",
     "output_type": "stream",
     "text": [
      "997799 :Is largest palindrome made from the product of two 3-digit numbers.\n",
      "910019 :Is largest palindrome made from the product of two 3-digit numbers.\n"
     ]
    }
   ],
   "source": [
    "def is_palindrome(n):\n",
    "    condition = True\n",
    "    while condition:\n",
    "        if n[0:] == n[::-1]:\n",
    "            print(n, ':Is largest palindrome made from the product of two 3-digit numbers.')\n",
    "            condition = False\n",
    "        else:\n",
    "           # print(n, 'is not palindrome ')\n",
    "            n = str(int(n) - 1)\n",
    " \n",
    " \n",
    "is_palindrome(str(999*999))\n",
    "is_palindrome(str(911*999))\n"
   ]
  },
  {
   "cell_type": "markdown",
   "metadata": {},
   "source": [
    "**Challenge 2: Summation of primes**\n",
    "\n",
    "The sum of the primes below 10 is 2 + 3 + 5 + 7 = 17. Find the sum of all the primes below two million."
   ]
  },
  {
   "cell_type": "code",
   "execution_count": 9,
   "metadata": {},
   "outputs": [
    {
     "name": "stdout",
     "output_type": "stream",
     "text": [
      "142913828922 :sum of all the primes below two million\n"
     ]
    }
   ],
   "source": [
    "import math\n",
    "def is_prime(n):\n",
    "    status = True\n",
    "    if n < 2:\n",
    "        status = False\n",
    "    else:\n",
    "        #If the number greater than its square divides it, there's a number smaller than the square \n",
    "        for i in range(2,int(math.sqrt(n)+1)):\n",
    "            if n % i == 0:\n",
    "                status = False\n",
    "    return status\n",
    " \n",
    "p=[]\n",
    "for n in range(1,2000000):\n",
    "    if is_prime(n):\n",
    "        p.append(n)\n",
    "s = sum(p)\n",
    "print(s,':sum of all the primes below two million')"
   ]
  },
  {
   "cell_type": "code",
   "execution_count": 8,
   "metadata": {},
   "outputs": [
    {
     "name": "stdout",
     "output_type": "stream",
     "text": [
      "142913828922 :sum of all the primes below two million\n"
     ]
    }
   ],
   "source": [
    "# Using the standard exponent operator without using functions\n",
    "def is_prime(n):\n",
    "    status = True\n",
    "    if n < 2:\n",
    "        status = False\n",
    "    else:\n",
    "        #If the number greater than its square divides it, there's a number smaller than the square \n",
    "        for i in range(2,int((n**0.5)+1)):\n",
    "            if n % i == 0:\n",
    "                status = False\n",
    "    return status\n",
    " \n",
    "p=[]\n",
    "for n in range(1,2000000):\n",
    "    if is_prime(n):\n",
    "        p.append(n)\n",
    "s = sum(p)\n",
    "print(s,':sum of all the primes below two million')"
   ]
  },
  {
   "cell_type": "markdown",
   "metadata": {},
   "source": [
    "**Challenge 3: Multiples of 3 and 5**\n",
    "\n",
    "If we list all the natural numbers below 10 that are multiples of 3 or 5, we get 3, 5, 6 and 9. The sum of these multiples is 23. Find the sum of all the multiples of 3 or 5 below 1000."
   ]
  },
  {
   "cell_type": "code",
   "execution_count": 16,
   "metadata": {},
   "outputs": [
    {
     "name": "stdout",
     "output_type": "stream",
     "text": [
      "233168\n"
     ]
    }
   ],
   "source": [
    "sum = 0\n",
    "for i in range(1,1000):\n",
    "    if i%3 == 0 or i%5 == 0:\n",
    "        sum +=i\n",
    "print(sum)        \n",
    "        "
   ]
  },
  {
   "cell_type": "markdown",
   "metadata": {},
   "source": [
    "**Challenge 4: Fizz Buzz**\n",
    "Write a program that prints all the numbers from 1 to 100. For multiples of 3, instead of the number, print \"Fizz\", for multiples of 5 print \"Buzz\". For numbers which are multiples of both 3 and 5, print \"FizzBuzz\". Bonus: If that's too easy, create three unique solutions. Sometimes you'll encounter unexpected constraints, so make sure you're able to think creatively!\n"
   ]
  },
  {
   "cell_type": "code",
   "execution_count": 1,
   "metadata": {},
   "outputs": [
    {
     "name": "stdout",
     "output_type": "stream",
     "text": [
      "Number 1\n",
      "Number 2\n",
      "Number 3 : Fizz\n",
      "Number 4\n",
      "Number 5 : Buzz\n",
      "Number 6 : Fizz\n",
      "Number 7\n",
      "Number 8\n",
      "Number 9 : Fizz\n",
      "Number 10 : Buzz\n",
      "Number 11\n",
      "Number 12 : Fizz\n",
      "Number 13\n",
      "Number 14\n",
      "Number 15 : FizzBuzz\n",
      "Number 16\n",
      "Number 17\n",
      "Number 18 : Fizz\n",
      "Number 19\n",
      "Number 20 : Buzz\n",
      "Number 21 : Fizz\n",
      "Number 22\n",
      "Number 23\n",
      "Number 24 : Fizz\n",
      "Number 25 : Buzz\n",
      "Number 26\n",
      "Number 27 : Fizz\n",
      "Number 28\n",
      "Number 29\n",
      "Number 30 : FizzBuzz\n",
      "Number 31\n",
      "Number 32\n",
      "Number 33 : Fizz\n",
      "Number 34\n",
      "Number 35 : Buzz\n",
      "Number 36 : Fizz\n",
      "Number 37\n",
      "Number 38\n",
      "Number 39 : Fizz\n",
      "Number 40 : Buzz\n",
      "Number 41\n",
      "Number 42 : Fizz\n",
      "Number 43\n",
      "Number 44\n",
      "Number 45 : FizzBuzz\n",
      "Number 46\n",
      "Number 47\n",
      "Number 48 : Fizz\n",
      "Number 49\n",
      "Number 50 : Buzz\n",
      "Number 51 : Fizz\n",
      "Number 52\n",
      "Number 53\n",
      "Number 54 : Fizz\n",
      "Number 55 : Buzz\n",
      "Number 56\n",
      "Number 57 : Fizz\n",
      "Number 58\n",
      "Number 59\n",
      "Number 60 : FizzBuzz\n",
      "Number 61\n",
      "Number 62\n",
      "Number 63 : Fizz\n",
      "Number 64\n",
      "Number 65 : Buzz\n",
      "Number 66 : Fizz\n",
      "Number 67\n",
      "Number 68\n",
      "Number 69 : Fizz\n",
      "Number 70 : Buzz\n",
      "Number 71\n",
      "Number 72 : Fizz\n",
      "Number 73\n",
      "Number 74\n",
      "Number 75 : FizzBuzz\n",
      "Number 76\n",
      "Number 77\n",
      "Number 78 : Fizz\n",
      "Number 79\n",
      "Number 80 : Buzz\n",
      "Number 81 : Fizz\n",
      "Number 82\n",
      "Number 83\n",
      "Number 84 : Fizz\n",
      "Number 85 : Buzz\n",
      "Number 86\n",
      "Number 87 : Fizz\n",
      "Number 88\n",
      "Number 89\n",
      "Number 90 : FizzBuzz\n",
      "Number 91\n",
      "Number 92\n",
      "Number 93 : Fizz\n",
      "Number 94\n",
      "Number 95 : Buzz\n",
      "Number 96 : Fizz\n",
      "Number 97\n",
      "Number 98\n",
      "Number 99 : Fizz\n",
      "Number 100 : Buzz\n"
     ]
    }
   ],
   "source": [
    "for i in range(1,101):\n",
    "    if i%3 == 0 and i%5 == 0:\n",
    "        print('Number',i,': FizzBuzz')\n",
    "    elif i%3 == 0:\n",
    "        print('Number',i,': Fizz')\n",
    "    elif i%5 == 0:\n",
    "        print('Number',i,': Buzz')\n",
    "    else:\n",
    "        print('Number',i)\n",
    "    \n",
    "              "
   ]
  },
  {
   "cell_type": "markdown",
   "metadata": {},
   "source": [
    "**Challenge 5: String Compressor**\n",
    "\n",
    "Implement a method to perform basic string compression using the counts of repeated characters. For example, the string 'aabcccccaaa' would become a2b1c5a3. If the “compressed” string would not become smaller than the original string, your method should return the original string. You can assume the string has only uppercase and lowercase letters (a-z). Specify whether your solution is case sensitive or insensitive, and what you would need to change to make it the other."
   ]
  },
  {
   "cell_type": "code",
   "execution_count": 19,
   "metadata": {},
   "outputs": [
    {
     "name": "stdout",
     "output_type": "stream",
     "text": [
      "prEEthi\n",
      "a2bc5a3\n"
     ]
    }
   ],
   "source": [
    "def str_compress(input_string):\n",
    "    new_string= \"\"\n",
    "    count = 1\n",
    "    new_string += input_string[0]\n",
    "    for i in range(len(input_string)-1):\n",
    "        if(input_string[i] == input_string[i+1]):\n",
    "            count+=1\n",
    "        else:\n",
    "            if(count > 1):\n",
    "                new_string += str(count)\n",
    "            new_string += input_string[i+1]\n",
    "            count = 1\n",
    "    if(count > 1):\n",
    "        new_string += str(count)\n",
    "    if len(new_string) == len(input_string):\n",
    "        return input_string\n",
    "    else:\n",
    "        return new_string \n",
    "print(str_compress('prEEthi'))\n",
    "print(str_compress('aabcccccaaa'))"
   ]
  },
  {
   "cell_type": "code",
   "execution_count": null,
   "metadata": {
    "collapsed": true
   },
   "outputs": [],
   "source": []
  }
 ],
 "metadata": {
  "kernelspec": {
   "display_name": "Python 3",
   "language": "python",
   "name": "python3"
  },
  "language_info": {
   "codemirror_mode": {
    "name": "ipython",
    "version": 3
   },
   "file_extension": ".py",
   "mimetype": "text/x-python",
   "name": "python",
   "nbconvert_exporter": "python",
   "pygments_lexer": "ipython3",
   "version": "3.6.2"
  }
 },
 "nbformat": 4,
 "nbformat_minor": 2
}
